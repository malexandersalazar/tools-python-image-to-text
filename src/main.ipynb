{
 "cells": [
  {
   "cell_type": "code",
   "execution_count": 173,
   "metadata": {},
   "outputs": [],
   "source": [
    "import pytesseract as pyt\n",
    "import cv2\n",
    "import os\n",
    "import spacy\n",
    "import pandas as pd\n",
    "from sklearn.model_selection import ParameterGrid"
   ]
  },
  {
   "cell_type": "code",
   "execution_count": 174,
   "metadata": {},
   "outputs": [
    {
     "data": {
      "text/plain": [
       "'4.6.0'"
      ]
     },
     "execution_count": 174,
     "metadata": {},
     "output_type": "execute_result"
    }
   ],
   "source": [
    "cv2.__version__"
   ]
  },
  {
   "cell_type": "code",
   "execution_count": 150,
   "metadata": {},
   "outputs": [],
   "source": [
    "img_file = 'D:\\\\Workspaces\\\\malexandersalazar\\\\tools-python-image-to-text\\\\img\\\\002.jpg'\n",
    "lang = 'en'"
   ]
  },
  {
   "cell_type": "code",
   "execution_count": 159,
   "metadata": {},
   "outputs": [],
   "source": [
    "pyt.pytesseract.tesseract_cmd = \"C:\\\\Program Files\\\\Tesseract-OCR\\\\tesseract.exe\"\n",
    "gpu = spacy.prefer_gpu()"
   ]
  },
  {
   "cell_type": "code",
   "execution_count": 152,
   "metadata": {},
   "outputs": [],
   "source": [
    "text_scores = []"
   ]
  },
  {
   "cell_type": "code",
   "execution_count": 153,
   "metadata": {},
   "outputs": [],
   "source": [
    "def get_grayscaled(image):\n",
    "    return cv2.cvtColor(image, cv2.COLOR_BGR2GRAY)\n",
    "\n",
    "def get_thresholded(image, block_size, c):\n",
    "    return cv2.adaptiveThreshold(image, 255, cv2.ADAPTIVE_THRESH_GAUSSIAN_C, cv2.THRESH_BINARY, block_size, c)"
   ]
  },
  {
   "cell_type": "code",
   "execution_count": 154,
   "metadata": {},
   "outputs": [],
   "source": [
    "def process(img_file, lang, block_size, c):\n",
    "    current_img_dir = os.path.dirname(img_file)\n",
    "\n",
    "    file_name = os.path.basename(img_file)\n",
    "    file_name_without_ext = os.path.splitext(file_name)[0]\n",
    "    new_dir = current_img_dir + '\\\\ocr_' + file_name_without_ext\n",
    "\n",
    "    if not os.path.exists(new_dir):\n",
    "        os.mkdir(new_dir)\n",
    "\n",
    "    img = cv2.imread(img_file)\n",
    "\n",
    "    thresholded_img = get_thresholded(get_grayscaled(img),block_size,c)\n",
    "\n",
    "    new_file_name = new_dir + '\\\\' + file_name_without_ext + '_' + str(block_size) + '_' + str(c)\n",
    "    cv2.imwrite(new_file_name + '.jpg', thresholded_img)\n",
    "\n",
    "    if(lang == 'es'):\n",
    "        tess_lang = 'spa'\n",
    "    elif(lang == 'en'):\n",
    "        tess_lang = 'eng'\n",
    "    else:\n",
    "        raise Exception('Not supported language')\n",
    "\n",
    "    return pyt.image_to_string(thresholded_img, tess_lang)\n"
   ]
  },
  {
   "cell_type": "code",
   "execution_count": 155,
   "metadata": {},
   "outputs": [],
   "source": [
    "params = {\n",
    "    'blockSize': [13,21,55,89,233],\n",
    "    'C': [2,3,5,8,13,21],\n",
    "}\n",
    "\n",
    "if(lang == 'es'):\n",
    "    nlp = spacy.load(\"es_core_news_md\")\n",
    "elif(lang == 'en'):\n",
    "    nlp = spacy.load(\"en_core_web_md\")\n",
    "else:\n",
    "    raise Exception('Not supported language')\n",
    "\n",
    "for config in ParameterGrid(params):\n",
    "    block_size = config['blockSize']\n",
    "    c = config['C']\n",
    "\n",
    "    text_result = process(img_file,lang,block_size,c)\n",
    "\n",
    "    tokens = nlp(text_result)\n",
    "    df = pd.DataFrame([(w.text, w.pos_) for w in tokens],columns=['text','word_type'])\n",
    "\n",
    "    nouns = df[df['word_type']=='NOUN']\n",
    "    verbs = df[df['word_type']=='VERB']\n",
    "    propernames = df[df['word_type']=='PROPN']\n",
    "    adjetives = df[df['word_type']=='ADJ']\n",
    "    prepositions = df[df['word_type']=='ADP']\n",
    "    verbs = df[df['word_type']=='VERB']\n",
    "    pronouns = df[df['word_type']=='PRON']\n",
    "    conjunctions = df[df['word_type']=='CCONJ']\n",
    "\n",
    "    text_score = len(nouns) + len(verbs) + len(propernames) + len(adjetives) + len(prepositions) + len(verbs) + len(pronouns) + len(conjunctions)\n",
    "    text_scores.append((text_result,text_score))"
   ]
  },
  {
   "cell_type": "code",
   "execution_count": 156,
   "metadata": {},
   "outputs": [],
   "source": [
    "scores_df = pd.DataFrame(text_scores, columns=['text_result','text_score'])"
   ]
  },
  {
   "cell_type": "code",
   "execution_count": 157,
   "metadata": {},
   "outputs": [
    {
     "name": "stdout",
     "output_type": "stream",
     "text": [
      "Hard reality #1: Despite the rapid growth of renewables, fossi\n",
      "fuels still provide more than 84 percent of Primary energy,\n",
      "Renewables (wind, solar, and biofuels) are growing fast bur\n",
      "still provide just 5 percent, with hydro providing 6.4 percent\n",
      "and nuclear 4.3 percent,’ At the same time, about 770 million\n",
      "people in the world have no access to electricity, and 2.6 billion\n",
      "\n",
      "don’t have access to energy for clean cooking.'4The chal lengg\n",
      "——— energy for lean cooking. ee\n",
      "is to Increase access to energy while also decarbonizing it,\n",
      "“Ceasing Fossil fuel use before there are other options to replace\n",
      "this 84 percent of global energy use brings real risks of coo-\n",
      "tinuing or worsening energy poverty. This is often recognized\n",
      "\n",
      "by climate advocates—for example, when 432 environmen”\n",
      "\n",
      "tal groups from 53 countries sent a letter to officials in the\n",
      "Biden Adyinjerenes cc cue - fear che\n",
      "\n",
      "a\n",
      "\n",
      "\n"
     ]
    }
   ],
   "source": [
    "text_final_result = scores_df.sort_values('text_score', ascending=False).reset_index(drop=True)['text_result'][0]\n",
    "print(text_final_result)"
   ]
  }
 ],
 "metadata": {
  "kernelspec": {
   "display_name": "Python 3.8.15 ('images-to-text')",
   "language": "python",
   "name": "python3"
  },
  "language_info": {
   "codemirror_mode": {
    "name": "ipython",
    "version": 3
   },
   "file_extension": ".py",
   "mimetype": "text/x-python",
   "name": "python",
   "nbconvert_exporter": "python",
   "pygments_lexer": "ipython3",
   "version": "3.8.15"
  },
  "orig_nbformat": 4,
  "vscode": {
   "interpreter": {
    "hash": "d1b8e0c9613274bb118e904c37abc27e33497fc32b900a49decd6a60158bab92"
   }
  }
 },
 "nbformat": 4,
 "nbformat_minor": 2
}
